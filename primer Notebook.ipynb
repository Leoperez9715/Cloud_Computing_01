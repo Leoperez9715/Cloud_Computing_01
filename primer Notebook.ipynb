{
 "cells": [
  {
   "cell_type": "markdown",
   "id": "d771f1b5-6a31-482a-83da-c96acbb2b67f",
   "metadata": {},
   "source": []
  },
  {
   "cell_type": "markdown",
   "id": "5932a327-d2f9-4a05-9378-8e497d7358db",
   "metadata": {},
   "source": [
    "# Uso de notebooks con markdowns\n",
    "\n",
    "## Intro\n",
    "Normalmente se va a escribir el codigo como si fuera notion por ejemplo, se tienen diferentes cosas:\n",
    "\n",
    "## Estilos de texto\n",
    "* **Negrita**: Se debe poner el texto entre ** ** o __ __ __ejem01__ **ejem02**\n",
    "* *Cursiva*: Se debe poner el texto entre * * o _ _\n",
    "* ~~Tachado~~: Se debe poner el texto entre ~~ ~~\n",
    "* ***Negrita y Cursiva***: Se debe usar *** *** (una mezcla de los dos ** y *)\n",
    "* usar<sub> subindice</sub>: se debe poner el texto entre los labels <sub'> </sub'> sin (')\n",
    "* usar<sup> superindice</sup>: Se debe poner el texto entre los labels <sup'> </sup'>\n",
    "* <ins> Subrayado </ins>: se debe poner el texto ente los labels <> ins \\ins\n",
    "\n",
    "## Otros formatos de texto\n",
    "### Comillas \n",
    "> este texto esta entre comillas usando \">\" antes del texto, se puede usar como una quote\n",
    "### Formato de codigo en un texto (tipo ctrl + E en notion)\n",
    "* Se tiene que ubicar el texto entre comillas invertidas **``** Para hablar de codigo por ejemplo `SELECT * FROM TABLE`\n",
    "* Otra forma que hay para bloques de codigo es poniendo texto (pueden ser varias lineas) entre triples  comillas invertidas **```**\n",
    "```\n",
    "Def saludar()\n",
    "    print(\"Hello world\")\n",
    "    return\n",
    "\n",
    "saludar()\n",
    "```\n",
    "### Cambios de color\n",
    "The background color is `#ffffff` for light mode and `#000000` for dark mode.\n",
    "\n",
    "\n",
    "**Donde encontrar el codigo**\n",
    "Este codigo se encuentra en mi [github](https://github.com/Leoperez9715/Cloud_Computing_01)\n"
   ]
  },
  {
   "cell_type": "code",
   "execution_count": null,
   "id": "320e011f-7662-4d8a-9182-5b8c5ed0f4ed",
   "metadata": {},
   "outputs": [],
   "source": []
  }
 ],
 "metadata": {
  "kernelspec": {
   "display_name": "Python 3 (ipykernel)",
   "language": "python",
   "name": "python3"
  },
  "language_info": {
   "codemirror_mode": {
    "name": "ipython",
    "version": 3
   },
   "file_extension": ".py",
   "mimetype": "text/x-python",
   "name": "python",
   "nbconvert_exporter": "python",
   "pygments_lexer": "ipython3",
   "version": "3.12.4"
  }
 },
 "nbformat": 4,
 "nbformat_minor": 5
}
